{
 "cells": [
  {
   "cell_type": "markdown",
   "metadata": {},
   "source": [
    "### SOME EXTRA DATA FOR MYSELF:\n",
    "* https://www.abs.gov.au/census/find-census-data/geopackages?release=2021&geography=VIC&gda=GDA2020&table=G01\n",
    "* https://www.abs.gov.au/census/find-census-data/census-data-tools"
   ]
  },
  {
   "cell_type": "markdown",
   "metadata": {},
   "source": [
    "# 1.Motivation\n",
    "---\n",
    "\n",
    "## What is your dataset?\n",
    "* Our backbone dataset is the Melbourne Urban Forest dataset (LINK) that will serve as the central idea for our story. From here we will build our story to link the impact trees can have within our community.\n",
    "\n",
    "## Why did you choose this/these particular dataset(s)?\n",
    "* As a group we had two large motivators for choosing the Melbourne dataset, first and foremost (Mikolaj) one of our group members home and place of birth is Melbourne. So being able to write a project based on data from familiar territory, and on areas which are known sounded both interesting and maybe even a slight cure for the days you get some homesickness. \n",
    "Secondly, \n",
    "\n",
    "## What was your goal for the end user's experience?\n",
    "* Our goal is to take the user on a data driven journey showcasing the power of vegetation and turning our outdated city planning model of concerete and buildings into a scientifically backed justifaction why re-foresting urban areas is needed, and what other positive side effects occur from it. We will show the user that areas with greater concentration of trees can lead to better satisfaction of living, increased health benefits, brings in bigger insect populations and most importantly reduces the ambient temperature making Melbourne more livable in a future where the temperatures are rising.\n"
   ]
  },
  {
   "cell_type": "markdown",
   "metadata": {},
   "source": [
    "# 2.Basic stats. Let's understand the dataset better\n",
    "---\n",
    "\n",
    "## Write about your choices in data cleaning and preprocessing\n",
    "\n",
    "## Write a short section that discusses the dataset stats, containing key points/plots from your exploratory data analysis."
   ]
  },
  {
   "cell_type": "markdown",
   "metadata": {},
   "source": [
    "# 3.Data Analysis\n",
    "---\n",
    "\n",
    "## Describe your data analysis and explain what you've learned about the dataset.\n",
    "\n",
    "## If relevant, talk about your machine-learning."
   ]
  },
  {
   "cell_type": "markdown",
   "metadata": {},
   "source": [
    "# 4.Genre. Which genre of data story did you use?\n",
    "---\n",
    "\n",
    "## Which tools did you use from each of the 3 categories of Visual Narrative (Figure 7 in Segal and Heer). Why?\n",
    "\n",
    "## Which tools did you use from each of the 3 categories of Narrative Structure (Figure 7 in Segal and Heer). Why?"
   ]
  },
  {
   "cell_type": "markdown",
   "metadata": {},
   "source": [
    "# 5.Visualizations.\n",
    "---\n",
    "\n",
    "## Explain the visualizations you've chosen.\n",
    "\n",
    "## Why are they right for the story you want to tell?"
   ]
  },
  {
   "cell_type": "markdown",
   "metadata": {},
   "source": [
    "# 6.Discussion. Think critically about your creation\n",
    "---\n",
    "\n",
    "## What went well?\n",
    "\n",
    "## What is still missing? What could be improved? Why?"
   ]
  },
  {
   "cell_type": "markdown",
   "metadata": {},
   "source": [
    "# 7.Contributions. Who did what?\n",
    "---\n",
    "\n",
    "## You should write (just briefly) which group member was the main responsible for which elements of the assignment. (I want you guys to understand every part of the assignment, but usually there is someone who took lead role on certain portions of the work. That's what you should explain).\n",
    "\n",
    "* It is not OK simply to write \"All group members contributed equally\".\n",
    "* Make sure that you use references when they're needed and follow academic standards."
   ]
  },
  {
   "cell_type": "code",
   "execution_count": null,
   "metadata": {},
   "outputs": [],
   "source": []
  }
 ],
 "metadata": {
  "language_info": {
   "name": "python"
  }
 },
 "nbformat": 4,
 "nbformat_minor": 2
}
